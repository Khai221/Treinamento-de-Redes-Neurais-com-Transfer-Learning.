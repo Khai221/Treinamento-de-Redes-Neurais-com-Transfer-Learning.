{
  "nbformat": 4,
  "nbformat_minor": 0,
  "metadata": {
    "colab": {
      "provenance": []
    },
    "kernelspec": {
      "name": "python3",
      "display_name": "Python 3"
    },
    "language_info": {
      "name": "python"
    }
  },
  "cells": [
    {
      "cell_type": "markdown",
      "source": [
        "Importação de bibliotecas e Modelo Base, no caso estou usando o modelo VGG16 que peguei no keras: https://keras.io/api/applications/vgg/#vgg16-function"
      ],
      "metadata": {
        "id": "mlMDTIEH27h2"
      }
    },
    {
      "cell_type": "code",
      "source": [
        "from tensorflow.keras.applications import VGG16\n",
        "\n",
        "base_model = VGG16(weights='imagenet', include_top=False, input_shape=(224, 224, 3))\n",
        "\n",
        "for layer in base_model.layers:\n",
        "    layer.trainable = False"
      ],
      "metadata": {
        "id": "oO2AZJoc3CQT"
      },
      "execution_count": 15,
      "outputs": []
    },
    {
      "cell_type": "markdown",
      "source": [
        "Montando o Google Drive, pois estou usando diretamente da pasta PetImages que contem 2 pastas dentro, as pastas Cat e Dog. Pois assim não preciso baixar o arquivo no meu PC e nem colar diretamente no drive pois o processo demoraria muito."
      ],
      "metadata": {
        "id": "b5mvwLdw3RLA"
      }
    },
    {
      "cell_type": "code",
      "source": [
        "from google.colab import drive\n",
        "import os\n",
        "from tensorflow.keras.preprocessing import image\n",
        "import numpy as np\n",
        "from tensorflow.keras.applications.vgg16 import preprocess_input\n",
        "drive.mount('/content/drive')"
      ],
      "metadata": {
        "colab": {
          "base_uri": "https://localhost:8080/"
        },
        "id": "XHJo0aGj4Frq",
        "outputId": "6e5802d0-a915-4939-e160-1cf387403208"
      },
      "execution_count": 16,
      "outputs": [
        {
          "output_type": "stream",
          "name": "stdout",
          "text": [
            "Drive already mounted at /content/drive; to attempt to forcibly remount, call drive.mount(\"/content/drive\", force_remount=True).\n"
          ]
        }
      ]
    },
    {
      "cell_type": "markdown",
      "source": [
        "Adicionando e configurando camadas personalizadas"
      ],
      "metadata": {
        "id": "YOTRVaKO4Qus"
      }
    },
    {
      "cell_type": "code",
      "source": [
        "from tensorflow.keras.models import Model\n",
        "from tensorflow.keras.layers import Dense, GlobalAveragePooling2D\n",
        "\n",
        "x = base_model.output\n",
        "x = GlobalAveragePooling2D()(x)\n",
        "x = Dense(1024, activation='relu')(x)\n",
        "predictions = Dense(2, activation='softmax')(x)\n",
        "\n",
        "model = Model(inputs=base_model.input, outputs=predictions)\n",
        "model.compile(optimizer='adam', loss='categorical_crossentropy', metrics=['accuracy'])"
      ],
      "metadata": {
        "id": "p-TUfDAO4XhJ"
      },
      "execution_count": 20,
      "outputs": []
    },
    {
      "cell_type": "markdown",
      "source": [
        "Preparando os Dados"
      ],
      "metadata": {
        "id": "WJHQZB9S4aG5"
      }
    },
    {
      "cell_type": "code",
      "source": [
        "from tensorflow.keras.preprocessing.image import ImageDataGenerator\n",
        "\n",
        "datagen = ImageDataGenerator(preprocessing_function=preprocess_input, validation_split=0.2)\n",
        "\n",
        "train_generator = datagen.flow_from_directory(\n",
        "    '/content/drive/My Drive/PetImages',\n",
        "    target_size=(224, 224),\n",
        "    batch_size=32,\n",
        "    class_mode='categorical',\n",
        "    subset='training')\n",
        "\n",
        "validation_generator = datagen.flow_from_directory(\n",
        "    '/content/drive/My Drive/PetImages',\n",
        "    target_size=(224, 224),\n",
        "    batch_size=32,\n",
        "    class_mode='categorical',\n",
        "    subset='validation')"
      ],
      "metadata": {
        "colab": {
          "base_uri": "https://localhost:8080/"
        },
        "id": "V8dBxgH14dRL",
        "outputId": "eb7ef650-ab10-410b-bf34-8bf5b54df910"
      },
      "execution_count": 21,
      "outputs": [
        {
          "output_type": "stream",
          "name": "stdout",
          "text": [
            "Found 584 images belonging to 2 classes.\n",
            "Found 146 images belonging to 2 classes.\n"
          ]
        }
      ]
    },
    {
      "cell_type": "markdown",
      "source": [
        "Treinamento do modelo com o dataset de Cat e Dog."
      ],
      "metadata": {
        "id": "G40Bck5N5MtI"
      }
    },
    {
      "cell_type": "code",
      "source": [
        "history = model.fit(\n",
        "    train_generator,\n",
        "    steps_per_epoch=train_generator.samples // train_generator.batch_size,\n",
        "    validation_data=validation_generator,\n",
        "    validation_steps=validation_generator.samples // validation_generator.batch_size,\n",
        "    epochs=10)"
      ],
      "metadata": {
        "colab": {
          "base_uri": "https://localhost:8080/"
        },
        "id": "7koASq785esX",
        "outputId": "cd6c3095-6501-4e28-8b19-69f3beb13746"
      },
      "execution_count": null,
      "outputs": [
        {
          "output_type": "stream",
          "name": "stdout",
          "text": [
            "Epoch 1/10\n",
            "10/18 [===============>..............] - ETA: 2:32 - loss: 0.2828 - accuracy: 0.9155"
          ]
        }
      ]
    },
    {
      "cell_type": "markdown",
      "source": [
        "Fazer Predições e processar e exibir resultados de Predições."
      ],
      "metadata": {
        "id": "_pAOCrqC5iwz"
      }
    },
    {
      "cell_type": "code",
      "source": [
        "predictions = model.predict(x)\n",
        "\n",
        "predicted_class_indices = np.argmax(predictions, axis=1)\n",
        "labels = (train_generator.class_indices)\n",
        "labels = dict((v, k) for k, v in labels.items())\n",
        "predictions_labels = [labels[k] for k in predicted_class_indices]\n",
        "print(predictions_labels)"
      ],
      "metadata": {
        "id": "5hMKJR_35jps"
      },
      "execution_count": null,
      "outputs": []
    }
  ]
}